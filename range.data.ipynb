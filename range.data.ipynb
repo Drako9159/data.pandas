{
 "cells": [
  {
   "cell_type": "code",
   "execution_count": 6,
   "metadata": {},
   "outputs": [
    {
     "data": {
      "text/plain": [
       "Cuartos\n",
       "1 y 2 cuartos      22270\n",
       "3 y 4 cuartos       9894\n",
       "5 y 6 caurtos        709\n",
       "7 cuartos ó más       87\n",
       "Name: count, dtype: int64"
      ]
     },
     "execution_count": 6,
     "metadata": {},
     "output_type": "execute_result"
    }
   ],
   "source": [
    "import pandas as pd\n",
    "data = pd.read_csv(\"./csv/Pandas/data/alquiler.csv\", sep=\";\")\n",
    "# groups by Cuartos\n",
    "# 1 y 2\n",
    "# 3 y 4\n",
    "# 5 y 6\n",
    "# 7 o más cuartos\n",
    "\n",
    "clases = [0, 2, 4, 6, 100]\n",
    "cuartos = pd.cut(data.Cuartos, clases)\n",
    "cuartos\n",
    "pd.value_counts(cuartos)\n",
    "\n",
    "\n",
    "label = [\"1 y 2 cuartos\", \"3 y 4 cuartos\", \"5 y 6 caurtos\", \"7 cuartos ó más\"]\n",
    "cuartos = pd.cut(data.Cuartos, clases, labels = label, include_lowest=True)\n",
    "pd.value_counts(cuartos)"
   ]
  }
 ],
 "metadata": {
  "kernelspec": {
   "display_name": "Python 3",
   "language": "python",
   "name": "python3"
  },
  "language_info": {
   "codemirror_mode": {
    "name": "ipython",
    "version": 3
   },
   "file_extension": ".py",
   "mimetype": "text/x-python",
   "name": "python",
   "nbconvert_exporter": "python",
   "pygments_lexer": "ipython3",
   "version": "3.11.4"
  },
  "orig_nbformat": 4
 },
 "nbformat": 4,
 "nbformat_minor": 2
}
