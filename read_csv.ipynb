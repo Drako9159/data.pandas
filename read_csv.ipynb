{
 "cells": [
  {
   "cell_type": "code",
   "execution_count": null,
   "metadata": {},
   "outputs": [],
   "source": [
    "# csv reader\n",
    "import pandas as pd\n",
    "dataset = pd.read_csv(\"db.csv\", sep=\";\")\n",
    "# show 1000 rows\n",
    "pd.set_option(\"display.max_rows\", 1000)\n",
    "# show 10 columns\n",
    "pd.set_option(\"display.max_columns\", 10)\n",
    "# show data types\n",
    "dataset.dtypes\n",
    "# show specific elements\n",
    "dataset[[\"Kilometraje\", \"Valor\"]].describe()\n",
    "# show general info \n",
    "dataset.info()"
   ]
  },
  {
   "cell_type": "code",
   "execution_count": 13,
   "metadata": {},
   "outputs": [
    {
     "name": "stdout",
     "output_type": "stream",
     "text": [
      "Jetta\n",
      "Passat\n",
      "Cross\n",
      "DS5\n",
      "('Jetta', 134523.12)\n",
      "('Passat', 123654.23)\n",
      "('Cross', 234234.23)\n",
      "('DS5', 233454.34)\n",
      "Jetta 134523.12\n",
      "Passat 123654.23\n",
      "Cross 234234.23\n",
      "DS5 233454.34\n",
      "Cross\n",
      "DS5\n"
     ]
    }
   ],
   "source": [
    "# tuples\n",
    "name = \"Passat\"\n",
    "value = 153000\n",
    "(name, value)\n",
    "# create tuple\n",
    "cars = [\"Jetta\", \"Passat\", \"Cross\", \"DS5\"]\n",
    "cost = [134523.12, 123654.23, 234234.23, 233454.34]\n",
    "tuple_cars = tuple(cars)\n",
    "tuple_cars[-1]\n",
    "tuple_cars[2:3]\n",
    "# iterate tuple\n",
    "for item in tuple_cars:\n",
    "    print(item)\n",
    "# extract elements\n",
    "_, C, *_ = tuple_cars\n",
    "C\n",
    "# create table\n",
    "list(zip(cars, cost))\n",
    "\n",
    "for item in zip(cars, cost):\n",
    "    print(item)\n",
    "    \n",
    "for car, val in zip(cars, cost):\n",
    "    print(car, val)\n",
    "\n",
    "for car, val in zip(cars, cost):\n",
    "    if(val > 200000):\n",
    "        print(car)\n"
   ]
  },
  {
   "cell_type": "code",
   "execution_count": 7,
   "metadata": {},
   "outputs": [
    {
     "data": {
      "text/plain": [
       "{}"
      ]
     },
     "execution_count": 7,
     "metadata": {},
     "output_type": "execute_result"
    }
   ],
   "source": [
    "# dictionary\n",
    "cars = [\"Jetta\", \"Passat\", \"Cross\", \"DS5\"]\n",
    "cost = [134523.12, 123654.23, 234234.23, 233454.34]\n",
    "# get index\n",
    "cars.index(\"Passat\")\n",
    "cost[cars.index(\"Passat\")]\n",
    "\n",
    "dic = {\n",
    "    \"Jetta\": 134523.12,\n",
    "    \"Passat\": 123654.23,\n",
    "    \"Cross\": 234234.23,\n",
    "    \"DS5\": 233454.34\n",
    "}\n",
    "# assign dictionary\n",
    "dic2 = dict(zip(cars, cost))\n",
    "dic2[\"Passat\"]\n",
    "dic2[\"DS6\"] = 452234.23\n",
    "dic2\n",
    "# delete element\n",
    "del dic2[\"DS5\"]\n",
    "dic2\n",
    "# update dictionary\n",
    "dic2.update({\"DS6\": 555034.12})\n",
    "dic2\n",
    "# copy of dictionary\n",
    "dic_copy = dic2.copy()\n",
    "# delete element with response\n",
    "response = dic2.pop(\"Passaert\", \"Key not found\")\n",
    "response\n",
    "# clean dictionary\n",
    "dic2.clear()\n",
    "dic2\n"
   ]
  },
  {
   "cell_type": "code",
   "execution_count": 16,
   "metadata": {},
   "outputs": [
    {
     "name": "stdout",
     "output_type": "stream",
     "text": [
      "Jetta\n",
      "Passat\n",
      "Cross\n",
      "DS5\n",
      "134523.12\n",
      "123654.23\n",
      "234234.23\n",
      "233454.34\n",
      "('Jetta', 134523.12)\n",
      "('Passat', 123654.23)\n",
      "('Cross', 234234.23)\n",
      "('DS5', 233454.34)\n",
      "Jetta -> 134523.12\n",
      "Passat -> 123654.23\n",
      "Cross -> 234234.23\n",
      "DS5 -> 233454.34\n",
      "Cross\n",
      "DS5\n"
     ]
    }
   ],
   "source": [
    "# iterate dictionary\n",
    "\n",
    "dic = {\n",
    "    \"Jetta\": 134523.12,\n",
    "    \"Passat\": 123654.23,\n",
    "    \"Cross\": 234234.23,\n",
    "    \"DS5\": 233454.34\n",
    "}\n",
    "\n",
    "keys = dic.keys()\n",
    "for key in dic.keys():\n",
    "    print(key)\n",
    "\n",
    "values = dic.values()\n",
    "for value in dic.values():\n",
    "    print(value)\n",
    "\n",
    "dic_tuple = dic.items()\n",
    "for item in dic.items():\n",
    "    print(item)\n",
    "\n",
    "for key, value in dic.items():\n",
    "    print(key, \"->\", value)\n",
    "\n",
    "for key, value in dic.items():\n",
    "    if(value > 200000):\n",
    "        print(key)"
   ]
  }
 ],
 "metadata": {
  "kernelspec": {
   "display_name": "Python 3",
   "language": "python",
   "name": "python3"
  },
  "language_info": {
   "codemirror_mode": {
    "name": "ipython",
    "version": 3
   },
   "file_extension": ".py",
   "mimetype": "text/x-python",
   "name": "python",
   "nbconvert_exporter": "python",
   "pygments_lexer": "ipython3",
   "version": "3.11.4"
  },
  "orig_nbformat": 4
 },
 "nbformat": 4,
 "nbformat_minor": 2
}
