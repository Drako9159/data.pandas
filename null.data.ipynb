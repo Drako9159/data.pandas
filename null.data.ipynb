{
 "cells": [
  {
   "cell_type": "code",
   "execution_count": 46,
   "metadata": {},
   "outputs": [
    {
     "data": {
      "text/html": [
       "<div>\n",
       "<style scoped>\n",
       "    .dataframe tbody tr th:only-of-type {\n",
       "        vertical-align: middle;\n",
       "    }\n",
       "\n",
       "    .dataframe tbody tr th {\n",
       "        vertical-align: top;\n",
       "    }\n",
       "\n",
       "    .dataframe thead th {\n",
       "        text-align: right;\n",
       "    }\n",
       "</style>\n",
       "<table border=\"1\" class=\"dataframe\">\n",
       "  <thead>\n",
       "    <tr style=\"text-align: right;\">\n",
       "      <th></th>\n",
       "      <th>Tipo</th>\n",
       "      <th>Distrito</th>\n",
       "      <th>Cuartos</th>\n",
       "      <th>Vacantes</th>\n",
       "      <th>Suites</th>\n",
       "      <th>Area</th>\n",
       "      <th>Valor</th>\n",
       "      <th>Mantenimiento</th>\n",
       "      <th>Impuesto</th>\n",
       "    </tr>\n",
       "  </thead>\n",
       "  <tbody>\n",
       "  </tbody>\n",
       "</table>\n",
       "</div>"
      ],
      "text/plain": [
       "Empty DataFrame\n",
       "Columns: [Tipo, Distrito, Cuartos, Vacantes, Suites, Area, Valor, Mantenimiento, Impuesto]\n",
       "Index: []"
      ]
     },
     "execution_count": 46,
     "metadata": {},
     "output_type": "execute_result"
    }
   ],
   "source": [
    "import pandas as pd\n",
    "data = pd.read_csv(\"./alquiler_residencial.csv\", sep=\";\")\n",
    "# check is null\n",
    "data.isnull()\n",
    "# check is not null\n",
    "data.notnull()\n",
    "# check info of null\n",
    "# data.info()\n",
    "\n",
    "data[data[\"Valor\"].isnull()]\n",
    "# delete elements with valor in null\n",
    "A = data.shape[0]\n",
    "delete = data.dropna(subset=[\"Valor\"], inplace = True)\n",
    "B = data.shape[0]\n",
    "\n",
    "data[data[\"Valor\"].isnull()]\n"
   ]
  },
  {
   "cell_type": "code",
   "execution_count": 49,
   "metadata": {},
   "outputs": [
    {
     "data": {
      "text/plain": [
       "745"
      ]
     },
     "execution_count": 49,
     "metadata": {},
     "output_type": "execute_result"
    }
   ],
   "source": [
    "\n",
    "data[data[\"Mantenimiento\"].isnull()].shape[0]\n",
    "# Delete if Departamento have Mantenimiento null\n",
    "selection = (data[\"Mantenimiento\"].isnull()) & (data[\"Tipo\"] == \"Departamento\")\n",
    "A = data.shape[0]\n",
    "data = data[~selection]\n",
    "B = data.shape[0]\n",
    "A - B\n"
   ]
  },
  {
   "cell_type": "code",
   "execution_count": 56,
   "metadata": {},
   "outputs": [
    {
     "data": {
      "text/plain": [
       "0     0.500\n",
       "1     0.575\n",
       "2     0.575\n",
       "3     0.520\n",
       "4     0.540\n",
       "5     0.575\n",
       "6     0.575\n",
       "7     0.590\n",
       "8     0.600\n",
       "9     0.575\n",
       "10    0.700\n",
       "dtype: float64"
      ]
     },
     "execution_count": 56,
     "metadata": {},
     "output_type": "execute_result"
    }
   ],
   "source": [
    "# example fill null\n",
    "example = [0.5, None, None, 0.52, 0.54, None, None, 0.59, 0.6, None, 0.7]\n",
    "example_s = pd.Series(example)\n",
    "example_s.fillna(method=\"ffill\", limit=1) # replace null with first value not null and limit\n",
    "example_s.fillna(method=\"bfill\") # replace null before value not null\n",
    "example_s.fillna(example_s.mean()) # replace with mean\n",
    "\n",
    "# data = data.fillna({\"Manteminiento\": 0, \"Impuesto\": 0})\n",
    "\n",
    "# data[data[\"Mantenimiento\"].isnull()].shape[0]\n",
    "\n",
    "\n",
    "\n",
    "\n",
    "\n"
   ]
  }
 ],
 "metadata": {
  "kernelspec": {
   "display_name": "Python 3",
   "language": "python",
   "name": "python3"
  },
  "language_info": {
   "codemirror_mode": {
    "name": "ipython",
    "version": 3
   },
   "file_extension": ".py",
   "mimetype": "text/x-python",
   "name": "python",
   "nbconvert_exporter": "python",
   "pygments_lexer": "ipython3",
   "version": "3.11.4"
  },
  "orig_nbformat": 4
 },
 "nbformat": 4,
 "nbformat_minor": 2
}
