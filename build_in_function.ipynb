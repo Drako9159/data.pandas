{
 "cells": [
  {
   "cell_type": "code",
   "execution_count": 7,
   "metadata": {},
   "outputs": [
    {
     "data": {
      "text/plain": [
       "725865.9199999999"
      ]
     },
     "execution_count": 7,
     "metadata": {},
     "output_type": "execute_result"
    }
   ],
   "source": [
    "dic = {\n",
    "    \"Jetta\": 134523.12,\n",
    "    \"Passat\": 123654.23,\n",
    "    \"Cross\": 234234.23,\n",
    "    \"DS5\": 233454.34\n",
    "}\n",
    "# sum values\n",
    "values = []\n",
    "for value in dic.values():\n",
    "    values.append(value)\n",
    "\n",
    "result = 0\n",
    "for value in values:\n",
    "    result += value\n",
    "result\n",
    "\n",
    "values_func = sum(list((dic.values())))\n",
    "values_func\n"
   ]
  }
 ],
 "metadata": {
  "kernelspec": {
   "display_name": "Python 3",
   "language": "python",
   "name": "python3"
  },
  "language_info": {
   "codemirror_mode": {
    "name": "ipython",
    "version": 3
   },
   "file_extension": ".py",
   "mimetype": "text/x-python",
   "name": "python",
   "nbconvert_exporter": "python",
   "pygments_lexer": "ipython3",
   "version": "3.11.4"
  },
  "orig_nbformat": 4
 },
 "nbformat": 4,
 "nbformat_minor": 2
}
