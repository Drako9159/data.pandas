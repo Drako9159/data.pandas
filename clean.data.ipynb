{
 "cells": [
  {
   "cell_type": "code",
   "execution_count": 13,
   "metadata": {},
   "outputs": [
    {
     "data": {
      "text/plain": [
       "0                        Habitación\n",
       "1                              Casa\n",
       "2                   Local comercial\n",
       "3                      Departamento\n",
       "7                Casa en condominio\n",
       "16                Edificio completo\n",
       "17                             Flat\n",
       "29                     Tienda/Salón\n",
       "80                          Almacén\n",
       "83                   Casa comercial\n",
       "117                   Casa de villa\n",
       "159                         Terreno\n",
       "207                         Cochera\n",
       "347                            Loft\n",
       "589      Tienda en Centro Comercial\n",
       "2157                         Chacra\n",
       "3354          Terreno em condominio\n",
       "4379                        Oficina\n",
       "4721                         Chalet\n",
       "6983                         Studio\n",
       "9687                          Hotel\n",
       "23614              Local industrial\n",
       "Name: Tipo, dtype: object"
      ]
     },
     "execution_count": 13,
     "metadata": {},
     "output_type": "execute_result"
    }
   ],
   "source": [
    "\n",
    "import pandas as pd\n",
    "data = pd.read_csv(\"./csv/Pandas/data/alquiler.csv\", sep=\";\")\n",
    "tipo_de_inmueble = data[\"Tipo\"]\n",
    "# clean duplicates\n",
    "data_duplicates = tipo_de_inmueble.drop_duplicates()\n",
    "data_duplicates\n",
    "\n",
    "\n"
   ]
  },
  {
   "cell_type": "markdown",
   "metadata": {},
   "source": [
    "## Organizndo la visualización"
   ]
  },
  {
   "cell_type": "code",
   "execution_count": 15,
   "metadata": {},
   "outputs": [
    {
     "data": {
      "text/plain": [
       "Index([    0,     1,     2,     3,     7,    16,    17,    29,    80,    83,\n",
       "         117,   159,   207,   347,   589,  2157,  3354,  4379,  4721,  6983,\n",
       "        9687, 23614],\n",
       "      dtype='int64')"
      ]
     },
     "execution_count": 15,
     "metadata": {},
     "output_type": "execute_result"
    }
   ],
   "source": [
    "data_duplicates.index"
   ]
  }
 ],
 "metadata": {
  "kernelspec": {
   "display_name": "Python 3",
   "language": "python",
   "name": "python3"
  },
  "language_info": {
   "codemirror_mode": {
    "name": "ipython",
    "version": 3
   },
   "file_extension": ".py",
   "mimetype": "text/x-python",
   "name": "python",
   "nbconvert_exporter": "python",
   "pygments_lexer": "ipython3",
   "version": "3.11.4"
  },
  "orig_nbformat": 4
 },
 "nbformat": 4,
 "nbformat_minor": 2
}
