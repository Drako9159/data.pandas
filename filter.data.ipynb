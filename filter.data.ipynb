{
 "cells": [
  {
   "cell_type": "code",
   "execution_count": 15,
   "metadata": {},
   "outputs": [
    {
     "data": {
      "text/plain": [
       "22845"
      ]
     },
     "execution_count": 15,
     "metadata": {},
     "output_type": "execute_result"
    }
   ],
   "source": [
    "import pandas as pd\n",
    "data = pd.read_csv(\"./csv/Pandas/data/alquiler.csv\", sep=\";\")\n",
    "data.head(10)\n",
    "\n",
    "list(data[\"Tipo\"].drop_duplicates())\n",
    "\n",
    "residential = ['Habitación',\n",
    " 'Casa',\n",
    " 'Departamento',\n",
    " 'Casa en condominio',\n",
    " 'Casa comercial',\n",
    " 'Casa de villa',\n",
    " ]\n",
    "\n",
    "section = data[\"Tipo\"].isin(residential)\n",
    "data_residential = data[section]\n",
    "# list(data_residential[\"Tipo\"])\n",
    "# data shape is reduce\n",
    "data_residential.shape[0]"
   ]
  }
 ],
 "metadata": {
  "kernelspec": {
   "display_name": "Python 3",
   "language": "python",
   "name": "python3"
  },
  "language_info": {
   "codemirror_mode": {
    "name": "ipython",
    "version": 3
   },
   "file_extension": ".py",
   "mimetype": "text/x-python",
   "name": "python",
   "nbconvert_exporter": "python",
   "pygments_lexer": "ipython3",
   "version": "3.11.4"
  },
  "orig_nbformat": 4
 },
 "nbformat": 4,
 "nbformat_minor": 2
}
