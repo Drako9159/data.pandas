{
 "cells": [
  {
   "cell_type": "code",
   "execution_count": 2,
   "metadata": {},
   "outputs": [
    {
     "name": "stdout",
     "output_type": "stream",
     "text": [
      "<class 'pandas.core.frame.DataFrame'>\n",
      "RangeIndex: 1500 entries, 0 to 1499\n",
      "Data columns (total 8 columns):\n",
      " #   Column            Non-Null Count  Dtype  \n",
      "---  ------            --------------  -----  \n",
      " 0   LIMIT_BAL         1500 non-null   int64  \n",
      " 1   CHECKING_ACCOUNT  1500 non-null   object \n",
      " 2   EDUCATION         1500 non-null   object \n",
      " 3   MARRIAGE          1500 non-null   object \n",
      " 4   AGE               1500 non-null   int64  \n",
      " 5   BILL_AMT          1500 non-null   float64\n",
      " 6   PAY_AMT           1500 non-null   float64\n",
      " 7   DEFAULT           1500 non-null   int64  \n",
      "dtypes: float64(2), int64(3), object(3)\n",
      "memory usage: 93.9+ KB\n"
     ]
    }
   ],
   "source": [
    "\n",
    "import pandas as pd\n",
    "data = pd.read_csv(\"./credit_card.csv\")\n",
    "# change columns name\n",
    "index([\"LIMIT_BALL\",\"CHECKING_ACCOUNT\", \"EDUCATION\", \"MARRIAGE\", \"AGE\", \"BILL_AMT\", \"PAY_AMT\", \"DEFAULT\"])\n",
    "dic_columns = {\n",
    "    \"LIMIT_BALL\": \"imite\",\n",
    "    \"CHECKING_ACCOUNT\": \"cuenta_corriente\",\n",
    "    \"EDUCATION\": \"escolaridad\",\n",
    "    \"MARRIAGE\": \"estado_civil\", \n",
    "    \"AGE\": \"edad\", \n",
    "    \"BILL_AMT\": \"valor_factura\", \n",
    "    \"PAY_AMT\": \"valor_pago\", \n",
    "    \"DEFAULT\": \"moroso\"\n",
    "}\n",
    "\n",
    "\n",
    "\n"
   ]
  }
 ],
 "metadata": {
  "kernelspec": {
   "display_name": "Python 3",
   "language": "python",
   "name": "python3"
  },
  "language_info": {
   "codemirror_mode": {
    "name": "ipython",
    "version": 3
   },
   "file_extension": ".py",
   "mimetype": "text/x-python",
   "name": "python",
   "nbconvert_exporter": "python",
   "pygments_lexer": "ipython3",
   "version": "3.11.4"
  },
  "orig_nbformat": 4
 },
 "nbformat": 4,
 "nbformat_minor": 2
}
