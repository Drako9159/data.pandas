{
 "cells": [
  {
   "cell_type": "code",
   "execution_count": 7,
   "metadata": {},
   "outputs": [
    {
     "data": {
      "text/plain": [
       "Tipo\n",
       "Departamento                  19532\n",
       "Local comercial                6815\n",
       "Tienda/Salón                   1426\n",
       "Casa en condominio              996\n",
       "Casa                            967\n",
       "Habitación                      836\n",
       "Almacén                         623\n",
       "Flat                            476\n",
       "Edificio completo               301\n",
       "Casa comercial                  265\n",
       "Casa de villa                   249\n",
       "Tienda en Centro Comercial      247\n",
       "Cochera                          82\n",
       "Terreno                          70\n",
       "Loft                             51\n",
       "Oficina                          10\n",
       "Terreno em condominio             5\n",
       "Studio                            4\n",
       "Hotel                             2\n",
       "Chacra                            1\n",
       "Chalet                            1\n",
       "Local industrial                  1\n",
       "Name: count, dtype: int64"
      ]
     },
     "execution_count": 7,
     "metadata": {},
     "output_type": "execute_result"
    }
   ],
   "source": [
    "import pandas as pd\n",
    "data = pd.read_csv(\"./csv/Pandas/data/alquiler.csv\", sep=\";\")\n",
    "\n",
    "\n",
    "s = pd.Series(list(\"asdfadfdgafdsf\"))\n",
    "# get values unique\n",
    "s.unique()\n",
    "# get shape\n",
    "s.value_counts()\n",
    "\n",
    "# get unique values\n",
    "data.Tipo.unique()\n",
    "# get value counts\n",
    "data.Tipo.value_counts()\n",
    "\n"
   ]
  }
 ],
 "metadata": {
  "kernelspec": {
   "display_name": "Python 3",
   "language": "python",
   "name": "python3"
  },
  "language_info": {
   "codemirror_mode": {
    "name": "ipython",
    "version": 3
   },
   "file_extension": ".py",
   "mimetype": "text/x-python",
   "name": "python",
   "nbconvert_exporter": "python",
   "pygments_lexer": "ipython3",
   "version": "3.11.4"
  },
  "orig_nbformat": 4
 },
 "nbformat": 4,
 "nbformat_minor": 2
}
