{
 "cells": [
  {
   "cell_type": "code",
   "execution_count": null,
   "metadata": {},
   "outputs": [],
   "source": [
    "import pandas as pd\n",
    "data = [\n",
    "    {\"name\": \"Juliet\", \"age\": 12, \"gender\": \"woman\"},\n",
    "    {\"name\": \"Roberth\", \"age\": 22, \"gender\": \"man\"},\n",
    "    {\"name\": \"Manuel\", \"age\": 32, \"gender\": \"man\"},\n",
    "]\n",
    "\n",
    "\n"
   ]
  }
 ],
 "metadata": {
  "language_info": {
   "name": "python"
  },
  "orig_nbformat": 4
 },
 "nbformat": 4,
 "nbformat_minor": 2
}
